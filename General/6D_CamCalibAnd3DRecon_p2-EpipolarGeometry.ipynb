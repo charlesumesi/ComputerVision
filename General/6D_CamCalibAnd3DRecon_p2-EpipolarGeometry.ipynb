{
 "cells": [
  {
   "cell_type": "markdown",
   "id": "73e3b683",
   "metadata": {},
   "source": [
    "### Epipolar Geometry\n",
    "\n",
    "This is the geometry of stereo vision, which means it is concerned with depth perception retrieval from binocular disparity through binocular vision.\n",
    "\n",
    "An illustration of how epipolar geometry works can be seen in:\n",
    "<br>\n",
    "https://en.wikipedia.org/wiki/Epipolar_geometry\n",
    "\n",
    "An OpenCV implementation of epipolar geometry can be seen in:\n",
    "<br>\n",
    "https://docs.opencv.org/3.4/da/de9/tutorial_py_epipolar_geometry.html\n",
    "\n",
    "Also, see:\n",
    "<br>\n",
    "https://docs.opencv.org/3.4/dd/d53/tutorial_py_depthmap.html"
   ]
  }
 ],
 "metadata": {
  "kernelspec": {
   "display_name": "Python 3",
   "language": "python",
   "name": "python3"
  },
  "language_info": {
   "codemirror_mode": {
    "name": "ipython",
    "version": 3
   },
   "file_extension": ".py",
   "mimetype": "text/x-python",
   "name": "python",
   "nbconvert_exporter": "python",
   "pygments_lexer": "ipython3",
   "version": "3.7.10"
  }
 },
 "nbformat": 4,
 "nbformat_minor": 5
}
