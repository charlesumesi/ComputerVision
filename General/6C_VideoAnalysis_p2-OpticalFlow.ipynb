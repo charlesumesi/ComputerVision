{
 "cells": [
  {
   "cell_type": "markdown",
   "id": "6003fc93",
   "metadata": {},
   "source": [
    "### NOTE: Neither the lines of code nor text have been proofread"
   ]
  },
  {
   "cell_type": "code",
   "execution_count": 1,
   "id": "54be5c3a",
   "metadata": {},
   "outputs": [],
   "source": [
    "import cv2 as cv\n",
    "import numpy as np"
   ]
  },
  {
   "cell_type": "markdown",
   "id": "983a9f1b",
   "metadata": {},
   "source": [
    "### Optical Flow\n",
    "\n",
    "This enables one see the apparent motion of an object between successive frames. The theory behind it can be read at:\n",
    "<br>\n",
    "https://docs.opencv.org/3.4/d4/dee/tutorial_optical_flow.html\n",
    "\n",
    "Achieving optical motion requires solving an optical flow equation, but this equation has two unknowns. To get round this, assumptions are made; several methods subsequently exist to solve the optical flow equation. Two methods are demonstrated\n",
    "\n",
    "**Lucas-Kanade Method**\n",
    "\n",
    "Quite simply, this method takes a 3 &times; 3 patch around each point in the object's motion such that for each point we have (<em>f<sub>x</sub></em>, <em>f<sub>y</sub></em>, <em>f<sub>t</sub></em>), 't' meaning time since optical flow is a 2D vector. The previous points, previous frame, and next frame are passed on to <code>cv.calcOpticalFlowPyrLK() </code> which returns the next points (for the next frame). See the aforementioned webpage for more details of the theory.\n",
    "\n",
    "An implementation is below"
   ]
  },
  {
   "cell_type": "code",
   "execution_count": 2,
   "id": "3ff8d44b",
   "metadata": {},
   "outputs": [
    {
     "name": "stdout",
     "output_type": "stream",
     "text": [
      "Can't receive frame (stream end?). Exiting ...\n"
     ]
    }
   ],
   "source": [
    "capture = cv.VideoCapture('bank_videos/M6 Motorway Traffic_Extract.mp4')\n",
    "\n",
    "# parameters for ShiTomasi corner detection\n",
    "feature_params = dict( maxCorners = 100,\n",
    "                       qualityLevel = 0.3,\n",
    "                       minDistance = 7,\n",
    "                       blockSize = 7 )\n",
    "\n",
    "# Parameters for lucas kanade optical flow\n",
    "lk_params = dict( winSize  = (15, 15),\n",
    "                  maxLevel = 2,\n",
    "                  criteria = (cv.TERM_CRITERIA_EPS | cv.TERM_CRITERIA_COUNT, 10, 0.03))\n",
    "\n",
    "# Create some random colors\n",
    "color = np.random.randint(0, 255, (100, 3))\n",
    "\n",
    "# Take first frame and find corners in it\n",
    "ret, old_frame = capture.read()\n",
    "old_gray = cv.cvtColor(old_frame, cv.COLOR_BGR2GRAY)\n",
    "p0 = cv.goodFeaturesToTrack(old_gray, mask = None, **feature_params)\n",
    "\n",
    "# Create a mask image for drawing purposes\n",
    "mask = np.zeros_like(old_frame)\n",
    "\n",
    "while capture.isOpened():\n",
    "    ret, frame = capture.read()\n",
    "    # if frame is read correctly ret is True\n",
    "    if not ret:\n",
    "        print(\"Can't receive frame (stream end?). Exiting ...\")\n",
    "        break\n",
    "    else:\n",
    "        frame_gray = cv.cvtColor(frame, cv.COLOR_BGR2GRAY)\n",
    "        \n",
    "       \n",
    "        # calculate optical flow\n",
    "        p1, st, err = cv.calcOpticalFlowPyrLK(old_gray, frame_gray, p0, None, **lk_params)\n",
    "\n",
    "        # Select good points\n",
    "        if p1 is not None:\n",
    "            good_new = p1[st==1]\n",
    "            good_old = p0[st==1]\n",
    "\n",
    "        # draw the tracks\n",
    "        for i, (new, old) in enumerate(zip(good_new, good_old)):\n",
    "            a, b = new.ravel()\n",
    "            c, d = old.ravel()\n",
    "            mask = cv.line(mask, (int(a), int(b)), (int(c), int(d)), color[i].tolist(), 2)\n",
    "            frame = cv.circle(frame, (int(a), int(b)), 5, color[i].tolist(), -1)\n",
    "        img = cv.add(frame, mask)\n",
    "        old_gray = frame_gray.copy()\n",
    "        p0 = good_new.reshape(-1, 1, 2)\n",
    "        cv.imshow('frame', img)\n",
    "        if cv.waitKey(12) == ord('q'):\n",
    "            break"
   ]
  },
  {
   "cell_type": "code",
   "execution_count": 3,
   "id": "ea68cd8b",
   "metadata": {},
   "outputs": [],
   "source": [
    "capture.release()"
   ]
  },
  {
   "cell_type": "code",
   "execution_count": 4,
   "id": "e567173f",
   "metadata": {},
   "outputs": [],
   "source": [
    "cv.destroyAllWindows()"
   ]
  },
  {
   "cell_type": "code",
   "execution_count": 5,
   "id": "6ff96794",
   "metadata": {},
   "outputs": [],
   "source": [
    "del(feature_params,lk_params,capture)"
   ]
  },
  {
   "cell_type": "markdown",
   "id": "4544506e",
   "metadata": {},
   "source": [
    "Let's save this"
   ]
  },
  {
   "cell_type": "code",
   "execution_count": 6,
   "id": "67240a0b",
   "metadata": {},
   "outputs": [
    {
     "data": {
      "text/plain": [
       "[1280, 720, 30, 503]"
      ]
     },
     "execution_count": 6,
     "metadata": {},
     "output_type": "execute_result"
    }
   ],
   "source": [
    "# Read video\n",
    "capture = cv.VideoCapture('bank_videos/M6 Motorway Traffic_Extract.mp4')\n",
    "\n",
    "# Get its size\n",
    "width = capture.get(cv.CAP_PROP_FRAME_WIDTH)\n",
    "height = capture.get(cv.CAP_PROP_FRAME_HEIGHT)\n",
    "fps = capture.get(cv.CAP_PROP_FPS)\n",
    "count = capture.get(cv.CAP_PROP_FRAME_COUNT)\n",
    "\n",
    "properties = [int(width), int(height), int(fps), int(count)]\n",
    "properties"
   ]
  },
  {
   "cell_type": "code",
   "execution_count": 10,
   "id": "280ed17d",
   "metadata": {},
   "outputs": [
    {
     "name": "stdout",
     "output_type": "stream",
     "text": [
      "Can't receive frame (stream end?). Exiting ...\n"
     ]
    }
   ],
   "source": [
    "capture = cv.VideoCapture('bank_videos/M6 Motorway Traffic_Extract.mp4')\n",
    "\n",
    "# Define the codec and create VideoWriter object\n",
    "codec = cv.VideoWriter_fourcc(*\"mp4v\")\n",
    "out = cv.VideoWriter('bank_videos/M6 Motorway Traffic_Extract_OpticalFlowLK.mp4', codec, 30.0, (1280, 720))\n",
    "\n",
    "# parameters for ShiTomasi corner detection\n",
    "feature_params = dict( maxCorners = 100,\n",
    "                       qualityLevel = 0.3,\n",
    "                       minDistance = 7,\n",
    "                       blockSize = 7 )\n",
    "\n",
    "# Parameters for lucas kanade optical flow\n",
    "lk_params = dict( winSize  = (15, 15),\n",
    "                  maxLevel = 2,\n",
    "                  criteria = (cv.TERM_CRITERIA_EPS | cv.TERM_CRITERIA_COUNT, 10, 0.03))\n",
    "\n",
    "# Create some random colors\n",
    "color = np.random.randint(0, 255, (100, 3))\n",
    "\n",
    "# Take first frame and find corners in it\n",
    "ret, old_frame = capture.read()\n",
    "old_gray = cv.cvtColor(old_frame, cv.COLOR_BGR2GRAY)\n",
    "p0 = cv.goodFeaturesToTrack(old_gray, mask = None, **feature_params)\n",
    "\n",
    "# Create a mask image for drawing purposes\n",
    "mask = np.zeros_like(old_frame)\n",
    "\n",
    "while capture.isOpened():\n",
    "    ret, frame = capture.read()\n",
    "    # if frame is read correctly ret is True\n",
    "    if not ret:\n",
    "        print(\"Can't receive frame (stream end?). Exiting ...\")\n",
    "        break\n",
    "    else:\n",
    "        frame_gray = cv.cvtColor(frame, cv.COLOR_BGR2GRAY)\n",
    "        \n",
    "       \n",
    "        # calculate optical flow\n",
    "        p1, st, err = cv.calcOpticalFlowPyrLK(old_gray, frame_gray, p0, None, **lk_params)\n",
    "\n",
    "        # Select good points\n",
    "        if p1 is not None:\n",
    "            good_new = p1[st==1]\n",
    "            good_old = p0[st==1]\n",
    "\n",
    "        # draw the tracks\n",
    "        for i, (new, old) in enumerate(zip(good_new, good_old)):\n",
    "            a, b = new.ravel()\n",
    "            c, d = old.ravel()\n",
    "            mask = cv.line(mask, (int(a), int(b)), (int(c), int(d)), color[i].tolist(), 2)\n",
    "            frame = cv.circle(frame, (int(a), int(b)), 5, color[i].tolist(), -1)\n",
    "        img = cv.add(frame, mask)\n",
    "        old_gray = frame_gray.copy()\n",
    "        p0 = good_new.reshape(-1, 1, 2)\n",
    "        out.write(img)\n",
    "        cv.imshow('frame', img)\n",
    "        if cv.waitKey(12) == ord('q'):\n",
    "            break"
   ]
  },
  {
   "cell_type": "code",
   "execution_count": 11,
   "id": "ff33284f",
   "metadata": {},
   "outputs": [],
   "source": [
    "capture.release()\n",
    "out.release()"
   ]
  },
  {
   "cell_type": "code",
   "execution_count": 12,
   "id": "a0d2ca95",
   "metadata": {},
   "outputs": [],
   "source": [
    "cv.destroyAllWindows()"
   ]
  },
  {
   "cell_type": "markdown",
   "id": "c0029652",
   "metadata": {},
   "source": [
    "Done!\n",
    "\n",
    "**Dense Optical Flow**\n",
    "\n",
    "Alternatively, we could compute the optical flow for all the points in the frame; see https://docs.opencv.org/3.4/d4/dee/tutorial_optical_flow.html"
   ]
  },
  {
   "cell_type": "code",
   "execution_count": 14,
   "id": "d57d1647",
   "metadata": {},
   "outputs": [
    {
     "name": "stdout",
     "output_type": "stream",
     "text": [
      "No frames grabbed!\n"
     ]
    }
   ],
   "source": [
    "capture = cv.VideoCapture('bank_videos/M6 Motorway Traffic_Extract.mp4')\n",
    "\n",
    "ret, frame = capture.read()\n",
    "prvs = cv.cvtColor(frame, cv.COLOR_BGR2GRAY)\n",
    "hsv = np.zeros_like(frame)\n",
    "hsv[..., 1] = 255\n",
    "\n",
    "while capture.isOpened():\n",
    "    ret, frame = capture.read()\n",
    "    if not ret:\n",
    "        print('No frames grabbed!')\n",
    "        break\n",
    "    else:\n",
    "        next = cv.cvtColor(frame, cv.COLOR_BGR2GRAY)\n",
    "        flow = cv.calcOpticalFlowFarneback(prvs, next, None, 0.5, 3, 15, 3, 5, 1.2, 0)\n",
    "        mag, ang = cv.cartToPolar(flow[..., 0], flow[..., 1])\n",
    "        hsv[..., 0] = ang*180/np.pi/2\n",
    "        hsv[..., 2] = cv.normalize(mag, None, 0, 255, cv.NORM_MINMAX)\n",
    "        frame = cv.cvtColor(hsv, cv.COLOR_HSV2BGR)\n",
    "\n",
    "        cv.imshow('frame', frame)\n",
    "        if cv.waitKey(12) == ord('q'):\n",
    "            break\n",
    "        prvs = next"
   ]
  },
  {
   "cell_type": "code",
   "execution_count": 15,
   "id": "a88d5009",
   "metadata": {},
   "outputs": [],
   "source": [
    "capture.release()"
   ]
  },
  {
   "cell_type": "code",
   "execution_count": 16,
   "id": "1a682a96",
   "metadata": {},
   "outputs": [],
   "source": [
    "cv.destroyAllWindows()"
   ]
  },
  {
   "cell_type": "markdown",
   "id": "f5f77412",
   "metadata": {},
   "source": [
    "Here, as the direction changes, so does the hue.\n",
    "\n",
    "Let's save this!"
   ]
  },
  {
   "cell_type": "code",
   "execution_count": 17,
   "id": "b18aa293",
   "metadata": {},
   "outputs": [
    {
     "name": "stdout",
     "output_type": "stream",
     "text": [
      "No frames grabbed!\n"
     ]
    }
   ],
   "source": [
    "capture = cv.VideoCapture('bank_videos/M6 Motorway Traffic_Extract.mp4')\n",
    "\n",
    "# Define the codec and create VideoWriter object\n",
    "codec = cv.VideoWriter_fourcc(*\"mp4v\")\n",
    "out = cv.VideoWriter('bank_videos/M6 Motorway Traffic_Extract_OpticalFlowDense.mp4', codec, 30.0, (1280, 720))\n",
    "\n",
    "ret, frame = capture.read()\n",
    "prvs = cv.cvtColor(frame, cv.COLOR_BGR2GRAY)\n",
    "hsv = np.zeros_like(frame)\n",
    "hsv[..., 1] = 255\n",
    "\n",
    "while capture.isOpened():\n",
    "    ret, frame = capture.read()\n",
    "    if not ret:\n",
    "        print('No frames grabbed!')\n",
    "        break\n",
    "    else:\n",
    "        next = cv.cvtColor(frame, cv.COLOR_BGR2GRAY)\n",
    "        flow = cv.calcOpticalFlowFarneback(prvs, next, None, 0.5, 3, 15, 3, 5, 1.2, 0)\n",
    "        mag, ang = cv.cartToPolar(flow[..., 0], flow[..., 1])\n",
    "        hsv[..., 0] = ang*180/np.pi/2\n",
    "        hsv[..., 2] = cv.normalize(mag, None, 0, 255, cv.NORM_MINMAX)\n",
    "        frame = cv.cvtColor(hsv, cv.COLOR_HSV2BGR)\n",
    "\n",
    "        out.write(frame)\n",
    "        cv.imshow('frame', frame)\n",
    "        if cv.waitKey(12) == ord('q'):\n",
    "            break\n",
    "        prvs = next"
   ]
  },
  {
   "cell_type": "code",
   "execution_count": 18,
   "id": "c8c58387",
   "metadata": {},
   "outputs": [],
   "source": [
    "capture.release()\n",
    "out.release()"
   ]
  },
  {
   "cell_type": "code",
   "execution_count": 19,
   "id": "beea37e5",
   "metadata": {},
   "outputs": [],
   "source": [
    "cv.destroyAllWindows()"
   ]
  },
  {
   "cell_type": "markdown",
   "id": "5889cbe0",
   "metadata": {},
   "source": [
    "Done"
   ]
  },
  {
   "cell_type": "code",
   "execution_count": null,
   "id": "bda80da2",
   "metadata": {},
   "outputs": [],
   "source": []
  }
 ],
 "metadata": {
  "kernelspec": {
   "display_name": "Python 3",
   "language": "python",
   "name": "python3"
  },
  "language_info": {
   "codemirror_mode": {
    "name": "ipython",
    "version": 3
   },
   "file_extension": ".py",
   "mimetype": "text/x-python",
   "name": "python",
   "nbconvert_exporter": "python",
   "pygments_lexer": "ipython3",
   "version": "3.7.10"
  }
 },
 "nbformat": 4,
 "nbformat_minor": 5
}
